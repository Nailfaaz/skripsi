{
 "cells": [
  {
   "cell_type": "code",
   "execution_count": 7,
   "metadata": {},
   "outputs": [
    {
     "name": "stdout",
     "output_type": "stream",
     "text": [
      "✅ Folder structure and placeholder files generated!\n"
     ]
    }
   ],
   "source": [
    "# === Paste this into a cell in temp.ipynb and run ===\n",
    "from pathlib import Path\n",
    "import json\n",
    "import os\n",
    "\n",
    "# 1. All directories to create\n",
    "dirs = [\n",
    "    \"data/raw/shenzhen\",\n",
    "    \"data/raw/montgomery\",\n",
    "    \"data/processed/shenzhen\",\n",
    "    \"data/processed/montgomery\",\n",
    "    \"notebooks\",\n",
    "    \"src/data\",\n",
    "    \"src/models\",\n",
    "    \"src/utils\",\n",
    "    \"configs\",\n",
    "    \"results/models\",\n",
    "    \"results/logs\",\n",
    "    \"results/figures\",\n",
    "    \"results/tables\",\n",
    "    \"scripts\",\n",
    "    \"docs/paper/figures\",\n",
    "    \"docs/paper/tables\",\n",
    "]\n",
    "\n",
    "# 2. Placeholder files (key: path, value: content or notebook JSON)\n",
    "files = {\n",
    "    # Notebooks\n",
    "    \"notebooks/01_explore_data.ipynb\":      {\"cells\": [], \"metadata\": {}, \"nbformat\": 4, \"nbformat_minor\": 5},\n",
    "    \"notebooks/02_preprocessing.ipynb\":     {\"cells\": [], \"metadata\": {}, \"nbformat\": 4, \"nbformat_minor\": 5},\n",
    "    \"notebooks/03_train_unet.ipynb\":        {\"cells\": [], \"metadata\": {}, \"nbformat\": 4, \"nbformat_minor\": 5},\n",
    "    \"notebooks/04_train_swin_mobnet.ipynb\": {\"cells\": [], \"metadata\": {}, \"nbformat\": 4, \"nbformat_minor\": 5},\n",
    "    \"notebooks/05_evaluate_and_plots.ipynb\":{\"cells\": [], \"metadata\": {}, \"nbformat\": 4, \"nbformat_minor\": 5},\n",
    "    # Python modules\n",
    "    \"src/data/loader.py\":        \"# data loader classes go here\\n\",\n",
    "    \"src/data/transforms.py\":    \"# preprocessing / augmentation functions go here\\n\",\n",
    "    \"src/models/unet.py\":        \"# U‑Net model definition\\n\",\n",
    "    \"src/models/swin_mobilenet.py\":\"# Swin+MobileNet hybrid model definition\\n\",\n",
    "    \"src/train.py\":              \"# generic training script\\n\",\n",
    "    \"src/evaluate.py\":           \"# evaluation & metrics\\n\",\n",
    "    \"src/predict.py\":            \"# inference script\\n\",\n",
    "    \"src/utils/metrics.py\":      \"# dice, IoU, etc.\\n\",\n",
    "    \"src/utils/visualization.py\":\"# overlay & plotting helpers\\n\",\n",
    "    # Configs\n",
    "    \"configs/default.yaml\":          \"# default hyperparams & paths\\n\",\n",
    "    \"configs/unet.yaml\":             \"# overrides for U‑Net\\n\",\n",
    "    \"configs/swin_mobilenet.yaml\":   \"# overrides for Swin+MobileNet\\n\",\n",
    "    # Scripts\n",
    "    \"scripts/preprocess.sh\":         \"#!/usr/bin/env bash\\n# example: python src/train.py --config configs/default.yaml\\n\",\n",
    "    \"scripts/run_all_experiments.sh\":\"#!/usr/bin/env bash\\n# bash scripts/preprocess.sh\\n# python src/train.py --config configs/unet.yaml\\n# python src/train.py --config configs/swin_mobilenet.yaml\\n\",\n",
    "    # Docs\n",
    "    \"docs/README.md\": \"# Project Overview\\n\\nQuickstart instructions...\\n\",\n",
    "}\n",
    "\n",
    "# Create directories\n",
    "for d in dirs:\n",
    "    Path(d).mkdir(parents=True, exist_ok=True)\n",
    "\n",
    "# Create files (and notebook JSON)\n",
    "for path, content in files.items():\n",
    "    p = Path(path)\n",
    "    p.parent.mkdir(parents=True, exist_ok=True)\n",
    "    if path.endswith(\".ipynb\"):\n",
    "        with p.open(\"w\", encoding=\"utf-8\") as f:\n",
    "            json.dump(content, f, indent=2)\n",
    "    else:\n",
    "        with p.open(\"w\", encoding=\"utf-8\") as f:\n",
    "            f.write(content)\n",
    "        # make shell scripts executable\n",
    "        if path.startswith(\"scripts/\") and path.endswith(\".sh\"):\n",
    "            os.chmod(p, 0o755)\n",
    "\n",
    "print(\"✅ Folder structure and placeholder files generated!\")"
   ]
  },
  {
   "cell_type": "code",
   "execution_count": null,
   "metadata": {},
   "outputs": [
    {
     "name": "stdout",
     "output_type": "stream",
     "text": [
      "Renaming complete.\n"
     ]
    }
   ],
   "source": [
    "import os\n",
    "\n",
    "# Folder path\n",
    "mask_folder = 'data/raw/shenzhen/masks'\n",
    "\n",
    "# Loop through files and rename them\n",
    "for filename in os.listdir(mask_folder):\n",
    "    name, ext = os.path.splitext(filename)\n",
    "    \n",
    "    # Skip if already renamed\n",
    "    if not name.endswith('_mask'):\n",
    "        old_path = os.path.join(mask_folder, filename)\n",
    "        new_name = f\"{name}_mask{ext}\"\n",
    "        new_path = os.path.join(mask_folder, new_name)\n",
    "        os.rename(old_path, new_path)\n",
    "\n",
    "print(\"Renaming complete.\")"
   ]
  },
  {
   "cell_type": "code",
   "execution_count": 12,
   "metadata": {},
   "outputs": [
    {
     "name": "stdout",
     "output_type": "stream",
     "text": [
      "Images with no matching mask: []\n",
      "Masks with no matching image: []\n"
     ]
    }
   ],
   "source": [
    "import os\n",
    "\n",
    "image_dir = 'data/raw/shenzhen/images'\n",
    "mask_dir = 'data/raw/shenzhen/masks'\n",
    "\n",
    "image_files = sorted([f for f in os.listdir(image_dir) if os.path.isfile(os.path.join(image_dir, f))])\n",
    "mask_files = sorted([f for f in os.listdir(mask_dir) if os.path.isfile(os.path.join(mask_dir, f))])\n",
    "\n",
    "# Extract base names\n",
    "image_basenames = [os.path.splitext(f)[0] for f in image_files]\n",
    "mask_basenames = [os.path.splitext(f)[0].replace('_mask', '') for f in mask_files]\n",
    "\n",
    "missing_masks = [img for img in image_basenames if img not in mask_basenames]\n",
    "missing_images = [msk for msk in mask_basenames if msk not in image_basenames]\n",
    "\n",
    "print(f\"Images with no matching mask: {missing_masks}\")\n",
    "print(f\"Masks with no matching image: {missing_images}\")"
   ]
  },
  {
   "cell_type": "code",
   "execution_count": null,
   "metadata": {},
   "outputs": [],
   "source": []
  }
 ],
 "metadata": {
  "kernelspec": {
   "display_name": ".venv",
   "language": "python",
   "name": "python3"
  },
  "language_info": {
   "codemirror_mode": {
    "name": "ipython",
    "version": 3
   },
   "file_extension": ".py",
   "mimetype": "text/x-python",
   "name": "python",
   "nbconvert_exporter": "python",
   "pygments_lexer": "ipython3",
   "version": "3.12.7"
  }
 },
 "nbformat": 4,
 "nbformat_minor": 2
}
