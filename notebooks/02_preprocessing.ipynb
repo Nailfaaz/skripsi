{
  "cells": [
    {
      "cell_type": "code",
      "execution_count": null,
      "id": "2d519faf",
      "metadata": {},
      "outputs": [],
      "source": [
        "# === 02_preprocessing.ipynb ===\n",
        "import os\n",
        "import numpy as np\n",
        "from src.data.loader import LungSegDataset\n",
        "from src.data.transforms import basic_transform  # your resize+normalize+ToTensor\n",
        "\n",
        "# list your two splits\n",
        "for ds_name in (\"shenzhen\", \"montgomery\"):\n",
        "    raw_root   = f\"data/raw/{ds_name}\"\n",
        "    proc_img   = f\"data/processed/{ds_name}/images\"\n",
        "    proc_mask  = f\"data/processed/{ds_name}/masks\"\n",
        "    os.makedirs(proc_img,  exist_ok=True)\n",
        "    os.makedirs(proc_mask, exist_ok=True)\n",
        "\n",
        "    ds = LungSegDataset(raw_root, transforms=basic_transform)\n",
        "    print(f\"→ Processing {ds_name}: {len(ds)} samples\")\n",
        "\n",
        "    for i in range(len(ds)):\n",
        "        img, mask = ds[i]   \n",
        "        # img, mask are torch.Tensor of shape [1, H, W]\n",
        "        img_np  = img.squeeze().cpu().numpy()   # H×W float32\n",
        "        mask_np = mask.squeeze().cpu().numpy()  # H×W float32 or uint8\n",
        "\n",
        "        fname = ds.ids[i]  # e.g. \"0001\"\n",
        "        # save as .npy\n",
        "        np.save(os.path.join(proc_img,  f\"{fname}.npy\"), img_np)\n",
        "        np.save(os.path.join(proc_mask, f\"{fname}_mask.npy\"), mask_np)\n",
        "\n",
        "    print(f\"  ✔ Saved processed → {proc_img}, {proc_mask}\\n\")\n",
        "\n",
        "# Quick sanity‑check: load one back\n",
        "sample_img = np.load(f\"data/processed/shenzhen/images/{ds.ids[0]}.npy\")\n",
        "sample_mask= np.load(f\"data/processed/shenzhen/masks/{ds.ids[0]}_mask.npy\")\n",
        "print(\"Sample shapes:\", sample_img.shape, sample_mask.shape)\n"
      ]
    }
  ],
  "metadata": {
    "language_info": {
      "name": "python"
    }
  },
  "nbformat": 4,
  "nbformat_minor": 5
}
