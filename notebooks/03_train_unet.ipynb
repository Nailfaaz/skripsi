{
  "cells": [
    {
      "cell_type": "code",
      "execution_count": 2,
      "id": "234df2ee",
      "metadata": {},
      "outputs": [
        {
          "name": "stdout",
          "output_type": "stream",
          "text": [
            "Project root added to sys.path: c:\\Users\\nailf\\Desktop\\skripsi\n"
          ]
        }
      ],
      "source": [
        "# ─── PATH HACK FOR NOTEBOOK ───────────────────────────────────────────\n",
        "import os, sys\n",
        "\n",
        "# 1) assume the notebook lives in \"notebooks/\" and src/ is one level up:\n",
        "PROJECT_ROOT = os.path.abspath(os.path.join(os.getcwd(), \"..\"))\n",
        "if PROJECT_ROOT not in sys.path:\n",
        "    sys.path.insert(0, PROJECT_ROOT)\n",
        "\n",
        "print(\"Project root added to sys.path:\", PROJECT_ROOT)\n",
        "# ─────────────────────────────────────────────────────────────────────"
      ]
    },
    {
      "cell_type": "code",
      "execution_count": 3,
      "id": "0ce5ce76",
      "metadata": {},
      "outputs": [
        {
          "name": "stdout",
          "output_type": "stream",
          "text": [
            "torch.Size([2, 1, 224, 224])\n"
          ]
        }
      ],
      "source": [
        "import torch\n",
        "from src.models.unet import UNet\n",
        "\n",
        "model = UNet(n_channels=1, n_classes=1)\n",
        "x = torch.randn(2, 1, 224, 224)       # batch of 2, 224×224\n",
        "y = model(x)\n",
        "print(y.shape)  # should be (2, 1, 224, 224)"
      ]
    },
    {
      "cell_type": "code",
      "execution_count": 4,
      "id": "1d6ea2df",
      "metadata": {},
      "outputs": [
        {
          "ename": "FileNotFoundError",
          "evalue": "[WinError 3] The system cannot find the path specified: 'data/processed/shenzhen\\\\images'",
          "output_type": "error",
          "traceback": [
            "\u001b[31m---------------------------------------------------------------------------\u001b[39m",
            "\u001b[31mFileNotFoundError\u001b[39m                         Traceback (most recent call last)",
            "\u001b[36mCell\u001b[39m\u001b[36m \u001b[39m\u001b[32mIn[4]\u001b[39m\u001b[32m, line 5\u001b[39m\n\u001b[32m      2\u001b[39m \u001b[38;5;28;01mfrom\u001b[39;00m\u001b[38;5;250m \u001b[39m\u001b[34;01msrc\u001b[39;00m\u001b[34;01m.\u001b[39;00m\u001b[34;01mdata\u001b[39;00m\u001b[34;01m.\u001b[39;00m\u001b[34;01mloader\u001b[39;00m\u001b[38;5;250m \u001b[39m\u001b[38;5;28;01mimport\u001b[39;00m NpySegDataset\n\u001b[32m      4\u001b[39m \u001b[38;5;66;03m# 1. Instantiate dataset\u001b[39;00m\n\u001b[32m----> \u001b[39m\u001b[32m5\u001b[39m ds = \u001b[43mNpySegDataset\u001b[49m\u001b[43m(\u001b[49m\u001b[33;43m\"\u001b[39;49m\u001b[33;43mdata/processed/shenzhen\u001b[39;49m\u001b[33;43m\"\u001b[39;49m\u001b[43m)\u001b[49m\n\u001b[32m      6\u001b[39m \u001b[38;5;28mprint\u001b[39m(\u001b[33m\"\u001b[39m\u001b[33mSamples in Shenzhen:\u001b[39m\u001b[33m\"\u001b[39m, \u001b[38;5;28mlen\u001b[39m(ds))\n\u001b[32m      8\u001b[39m \u001b[38;5;66;03m# 2. Peek one sample\u001b[39;00m\n",
            "\u001b[36mFile \u001b[39m\u001b[32mc:\\Users\\nailf\\Desktop\\skripsi\\src\\data\\loader.py:15\u001b[39m, in \u001b[36mNpySegDataset.__init__\u001b[39m\u001b[34m(self, root_dir)\u001b[39m\n\u001b[32m     13\u001b[39m \u001b[38;5;28mself\u001b[39m.mask_dir = os.path.join(root_dir, \u001b[33m\"\u001b[39m\u001b[33mmasks\u001b[39m\u001b[33m\"\u001b[39m)\n\u001b[32m     14\u001b[39m \u001b[38;5;66;03m# assume images are named \"0001.npy\" and masks \"0001_mask.npy\"\u001b[39;00m\n\u001b[32m---> \u001b[39m\u001b[32m15\u001b[39m \u001b[38;5;28mself\u001b[39m.ids = [f[:-\u001b[32m4\u001b[39m] \u001b[38;5;28;01mfor\u001b[39;00m f \u001b[38;5;129;01min\u001b[39;00m \u001b[43mos\u001b[49m\u001b[43m.\u001b[49m\u001b[43mlistdir\u001b[49m\u001b[43m(\u001b[49m\u001b[38;5;28;43mself\u001b[39;49m\u001b[43m.\u001b[49m\u001b[43mimg_dir\u001b[49m\u001b[43m)\u001b[49m \u001b[38;5;28;01mif\u001b[39;00m f.endswith(\u001b[33m\"\u001b[39m\u001b[33m.npy\u001b[39m\u001b[33m\"\u001b[39m)]\n",
            "\u001b[31mFileNotFoundError\u001b[39m: [WinError 3] The system cannot find the path specified: 'data/processed/shenzhen\\\\images'"
          ]
        }
      ],
      "source": [
        "from torch.utils.data import DataLoader\n",
        "from src.data.loader import NpySegDataset\n",
        "\n",
        "# 1. Instantiate dataset\n",
        "ds = NpySegDataset(\"data/processed/shenzhen\")\n",
        "print(\"Samples in Shenzhen:\", len(ds))\n",
        "\n",
        "# 2. Peek one sample\n",
        "img, mask = ds[0]\n",
        "print(\"  img shape:\", img.shape, \"mask shape:\", mask.shape)\n",
        "\n",
        "# 3. DataLoader\n",
        "dl = DataLoader(ds, batch_size=2, shuffle=True, num_workers=2)\n",
        "batch_imgs, batch_masks = next(iter(dl))\n",
        "print(\"Batch imgs:\", batch_imgs.shape, \"Batch masks:\", batch_masks.shape)"
      ]
    },
    {
      "cell_type": "code",
      "execution_count": null,
      "id": "6ee631cb",
      "metadata": {},
      "outputs": [],
      "source": []
    }
  ],
  "metadata": {
    "kernelspec": {
      "display_name": ".venv",
      "language": "python",
      "name": "python3"
    },
    "language_info": {
      "codemirror_mode": {
        "name": "ipython",
        "version": 3
      },
      "file_extension": ".py",
      "mimetype": "text/x-python",
      "name": "python",
      "nbconvert_exporter": "python",
      "pygments_lexer": "ipython3",
      "version": "3.12.7"
    }
  },
  "nbformat": 4,
  "nbformat_minor": 5
}
