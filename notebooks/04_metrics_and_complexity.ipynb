{
 "cells": [
  {
   "cell_type": "code",
   "execution_count": 1,
   "metadata": {},
   "outputs": [
    {
     "name": "stdout",
     "output_type": "stream",
     "text": [
      "Val IoU:  0.0000\n",
      "Val Dice: 0.0000\n",
      "Val Hausdorff Distance: nan\n",
      "Total parameters: 13,394,177\n",
      "Trainable parameters: 13,394,177\n",
      "Model size on disk: 51.17 MB\n"
     ]
    },
    {
     "name": "stderr",
     "output_type": "stream",
     "text": [
      "C:\\Users\\nailf\\AppData\\Local\\Temp\\ipykernel_27796\\1523263442.py:60: RuntimeWarning: Mean of empty slice\n",
      "  print(f\"Val Hausdorff Distance: {np.nanmean(hds):.4f}\")\n"
     ]
    },
    {
     "name": "stdout",
     "output_type": "stream",
     "text": [
      "FLOPs (MACs): 23.75 GMac\n",
      "Params (string): 13.39 M\n"
     ]
    }
   ],
   "source": [
    "# === 04_metrics_and_complexity.ipynb ===\n",
    "import os, sys, tempfile\n",
    "import torch\n",
    "import numpy as np\n",
    "from torch.utils.data import DataLoader\n",
    "from scipy.spatial.distance import directed_hausdorff\n",
    "from ptflops import get_model_complexity_info \n",
    "\n",
    "# ensure src/ is importable\n",
    "PROJECT_ROOT = os.path.abspath(os.path.join(os.getcwd(), \"..\"))\n",
    "if PROJECT_ROOT not in sys.path:\n",
    "    sys.path.insert(0, PROJECT_ROOT)\n",
    "\n",
    "from src.data.loader import NpySegDataset\n",
    "from src.models.unet import UNet\n",
    "\n",
    "# 1) Set up validation loader\n",
    "shenzhen_root = os.path.join(PROJECT_ROOT, \"data\", \"processed\", \"shenzhen\")\n",
    "val_ds = NpySegDataset(shenzhen_root, split=\"val\")\n",
    "val_dl = DataLoader(val_ds, batch_size=1, shuffle=False, num_workers=2)\n",
    "\n",
    "# 2) Load model\n",
    "device = torch.device(\"cuda\" if torch.cuda.is_available() else \"cpu\")\n",
    "model = UNet(n_channels=1, n_classes=1).to(device)\n",
    "model.eval()\n",
    "\n",
    "# 3) Define metrics accumulators\n",
    "ious, dices, hds = [], [], []\n",
    "\n",
    "# 4) Loop over validation set\n",
    "with torch.no_grad():\n",
    "    for img, mask in val_dl:\n",
    "        img, mask = img.to(device), mask.to(device)\n",
    "        pred = torch.sigmoid(model(img))\n",
    "        p = (pred > 0.5).cpu().numpy().astype(np.uint8)[0,0]\n",
    "        t = mask.cpu().numpy().astype(np.uint8)[0,0]\n",
    "\n",
    "        # IoU & Dice\n",
    "        intersection = np.logical_and(p, t).sum()\n",
    "        union = np.logical_or(p, t).sum()\n",
    "        iou = intersection/union if union>0 else np.nan\n",
    "        dice = 2*intersection/(p.sum()+t.sum()) if (p.sum()+t.sum())>0 else np.nan\n",
    "\n",
    "        # Hausdorff Distance\n",
    "        coords_p = np.column_stack(np.where(p))\n",
    "        coords_t = np.column_stack(np.where(t))\n",
    "        if coords_p.size and coords_t.size:\n",
    "            d1 = directed_hausdorff(coords_p, coords_t)[0]\n",
    "            d2 = directed_hausdorff(coords_t, coords_p)[0]\n",
    "            hd = max(d1, d2)\n",
    "        else:\n",
    "            hd = np.nan\n",
    "\n",
    "        ious.append(iou)\n",
    "        dices.append(dice)\n",
    "        hds.append(hd)\n",
    "\n",
    "print(f\"Val IoU:  {np.nanmean(ious):.4f}\")\n",
    "print(f\"Val Dice: {np.nanmean(dices):.4f}\")\n",
    "print(f\"Val Hausdorff Distance: {np.nanmean(hds):.4f}\")\n",
    "\n",
    "# 5) Model size & parameters\n",
    "total_params = sum(p.numel() for p in model.parameters())\n",
    "trainable_params = sum(p.numel() for p in model.parameters() if p.requires_grad)\n",
    "print(f\"Total parameters: {total_params:,}\")\n",
    "print(f\"Trainable parameters: {trainable_params:,}\")\n",
    "\n",
    "# 6) Model file size\n",
    "tmp = tempfile.NamedTemporaryFile(delete=False, suffix=\".pth\")\n",
    "torch.save(model.state_dict(), tmp.name)\n",
    "size_mb = os.path.getsize(tmp.name) / (1024*1024)\n",
    "print(f\"Model size on disk: {size_mb:.2f} MB\")\n",
    "tmp.close()\n",
    "os.remove(tmp.name)\n",
    "\n",
    "# 7) FLOPs (approx) & params string\n",
    "flops, params_str = get_model_complexity_info(\n",
    "    model, (1,224,224), as_strings=True, print_per_layer_stat=False\n",
    ")\n",
    "print(f\"FLOPs (MACs): {flops}\")\n",
    "print(f\"Params (string): {params_str}\")\n"
   ]
  },
  {
   "cell_type": "code",
   "execution_count": null,
   "metadata": {},
   "outputs": [],
   "source": []
  }
 ],
 "metadata": {
  "kernelspec": {
   "display_name": ".venv",
   "language": "python",
   "name": "python3"
  },
  "language_info": {
   "codemirror_mode": {
    "name": "ipython",
    "version": 3
   },
   "file_extension": ".py",
   "mimetype": "text/x-python",
   "name": "python",
   "nbconvert_exporter": "python",
   "pygments_lexer": "ipython3",
   "version": "3.12.7"
  }
 },
 "nbformat": 4,
 "nbformat_minor": 2
}
